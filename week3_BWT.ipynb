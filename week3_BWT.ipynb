{
 "cells": [
  {
   "cell_type": "markdown",
   "id": "e92c5db3-9428-44be-9719-20b2a211186d",
   "metadata": {},
   "source": [
    "# BWT(T) Algorithm to retrieve alignments\n",
    "* Week 3, Fall 2024 Bioinformatics"
   ]
  },
  {
   "cell_type": "markdown",
   "id": "7eb70a62-e105-4c36-b599-973b96d83d8f",
   "metadata": {},
   "source": [
    "### Burrows-Wheeler Transform\n",
    "* Reversible permutation used originally in compression\n",
    "* Database sequence T = acaacg$"
   ]
  },
  {
   "cell_type": "code",
   "execution_count": 1,
   "id": "c6653d8c-17a7-4a04-807c-91be079d8e39",
   "metadata": {},
   "outputs": [],
   "source": [
    "import numpy as np"
   ]
  },
  {
   "cell_type": "code",
   "execution_count": 2,
   "id": "220d1772-0a8d-4f3b-b2f8-95987cda602d",
   "metadata": {},
   "outputs": [],
   "source": [
    "# 1. 입력 문자열 준비"
   ]
  },
  {
   "cell_type": "code",
   "execution_count": 5,
   "id": "c4db62e1-1509-48e1-95bd-4f6f3f68e1ab",
   "metadata": {},
   "outputs": [
    {
     "name": "stdin",
     "output_type": "stream",
     "text": [
      "sequence: acaacg\n"
     ]
    }
   ],
   "source": [
    "sequence = input(\"sequence:\")"
   ]
  },
  {
   "cell_type": "code",
   "execution_count": 6,
   "id": "7f0312d0-867b-4180-8fc0-99d9ae52d82f",
   "metadata": {},
   "outputs": [],
   "source": [
    "sequence += \"$\""
   ]
  },
  {
   "cell_type": "code",
   "execution_count": 7,
   "id": "9061b060-3a71-48bd-a498-72adba75b9f4",
   "metadata": {},
   "outputs": [],
   "source": [
    "sequence_list = list(sequence)"
   ]
  },
  {
   "cell_type": "code",
   "execution_count": 8,
   "id": "b0f925d4-d1f2-4ae5-bf8b-bcbbc5e98d28",
   "metadata": {},
   "outputs": [
    {
     "data": {
      "text/plain": [
       "['a', 'c', 'a', 'a', 'c', 'g', '$']"
      ]
     },
     "execution_count": 8,
     "metadata": {},
     "output_type": "execute_result"
    }
   ],
   "source": [
    "sequence_list"
   ]
  },
  {
   "cell_type": "markdown",
   "id": "d2d34ac6-80f5-449e-b394-79d58e411704",
   "metadata": {},
   "source": [
    "# 2. 회전 행렬 생성\n",
    "문자열의 모든 순환(rotation) 버전을 만드는 과정입니다. 순환이란, 문자열의 각 문자가 하나씩 왼쪽으로 밀리고, 맨 앞에 있던 문자가 맨 뒤로 가는 과정을 반복하는 것을 의미합니다."
   ]
  },
  {
   "cell_type": "markdown",
   "id": "5cce42f5-02af-4dad-85e9-8c9fa7c61962",
   "metadata": {},
   "source": [
    "### 순환(rotation)의 과정"
   ]
  },
  {
   "cell_type": "markdown",
   "id": "15de495b-fd5c-4a8d-acf8-c525a6d01eb0",
   "metadata": {},
   "source": [
    "1. 원본 문자열: \n",
    "**ATGC$**  (아무 변화 없음, 첫 번째 버전)\n",
    "\n",
    "2. 한 칸 왼쪽으로 밀기:\n",
    "맨 앞의 A를 맨 뒤로 보냅니다:\n",
    "**TGC$A** (두 번째 버전)\n",
    "\n",
    "3. 다시 한 칸 왼쪽으로 밀기:\n",
    "T를 맨 뒤로 보냅니다:\n",
    "**GC$AT** (세 번째 버전)\n",
    "\n",
    "4. 또 한 칸 왼쪽으로 밀기:\n",
    "G를 맨 뒤로 보냅니다:\n",
    "**C$ATG** (네 번째 버전)\n",
    "\n",
    "\n",
    "5. 마지막으로 한 칸 왼쪽으로 밀기:\n",
    "C를 맨 뒤로 보냅니다:\n",
    "**$ATGC** (다섯 번째 버전)"
   ]
  },
  {
   "cell_type": "code",
   "execution_count": 9,
   "id": "6a3e4ac1-acd6-4ab0-99bb-5329fc795913",
   "metadata": {},
   "outputs": [],
   "source": [
    "bwm = [] \n",
    "\n",
    "for i in range(len(sequence_list)):\n",
    "    bwm.append(sequence_list.copy())\n",
    "    first_seq = sequence_list.pop(0)  # 첫 번째 'a'를 제거\n",
    "    sequence_list.append(first_seq) #지운 'a'를 맨 뒤로 보냅니다"
   ]
  },
  {
   "cell_type": "code",
   "execution_count": 10,
   "id": "7e623005",
   "metadata": {},
   "outputs": [
    {
     "data": {
      "text/plain": [
       "[['a', 'c', 'a', 'a', 'c', 'g', '$'],\n",
       " ['c', 'a', 'a', 'c', 'g', '$', 'a'],\n",
       " ['a', 'a', 'c', 'g', '$', 'a', 'c'],\n",
       " ['a', 'c', 'g', '$', 'a', 'c', 'a'],\n",
       " ['c', 'g', '$', 'a', 'c', 'a', 'a'],\n",
       " ['g', '$', 'a', 'c', 'a', 'a', 'c'],\n",
       " ['$', 'a', 'c', 'a', 'a', 'c', 'g']]"
      ]
     },
     "execution_count": 10,
     "metadata": {},
     "output_type": "execute_result"
    }
   ],
   "source": [
    "bwm "
   ]
  },
  {
   "cell_type": "code",
   "execution_count": 11,
   "id": "3f99b6ad-98a1-47f2-8255-6e0b80567a0c",
   "metadata": {},
   "outputs": [],
   "source": [
    "bwm = np.array(bwm)"
   ]
  },
  {
   "cell_type": "code",
   "execution_count": 12,
   "id": "bb2f2b9c-f53d-4a15-9eaa-f6a1817e4085",
   "metadata": {},
   "outputs": [
    {
     "data": {
      "text/plain": [
       "array([['a', 'c', 'a', 'a', 'c', 'g', '$'],\n",
       "       ['c', 'a', 'a', 'c', 'g', '$', 'a'],\n",
       "       ['a', 'a', 'c', 'g', '$', 'a', 'c'],\n",
       "       ['a', 'c', 'g', '$', 'a', 'c', 'a'],\n",
       "       ['c', 'g', '$', 'a', 'c', 'a', 'a'],\n",
       "       ['g', '$', 'a', 'c', 'a', 'a', 'c'],\n",
       "       ['$', 'a', 'c', 'a', 'a', 'c', 'g']], dtype='<U1')"
      ]
     },
     "execution_count": 12,
     "metadata": {},
     "output_type": "execute_result"
    }
   ],
   "source": [
    "bwm"
   ]
  },
  {
   "cell_type": "markdown",
   "id": "eb918d5b-354e-4d0a-a891-9f2c6b392a75",
   "metadata": {},
   "source": [
    "## 3. 회전 행렬 정렬\n",
    "생성된 모든 회전을 사전순으로 정렬"
   ]
  },
  {
   "cell_type": "code",
   "execution_count": 15,
   "id": "4ddd1865-2991-429c-a2d5-96d444ca24d2",
   "metadata": {},
   "outputs": [
    {
     "data": {
      "text/plain": [
       "array(['a', 'c', 'a', 'a', 'c', 'g', '$'], dtype='<U1')"
      ]
     },
     "execution_count": 15,
     "metadata": {},
     "output_type": "execute_result"
    }
   ],
   "source": [
    "bwm[:, 0] "
   ]
  },
  {
   "cell_type": "code",
   "execution_count": 18,
   "id": "2dc1f9fd-2480-4ada-82f2-b1ce3767248f",
   "metadata": {},
   "outputs": [],
   "source": [
    "sorted_bwm = bwm[np.lexsort([bwm[:, i] for i in range((bwm.shape[1]-1), -1, -1)])]"
   ]
  },
  {
   "cell_type": "code",
   "execution_count": 19,
   "id": "0a444a7a-fc35-470e-9d79-efea51908c47",
   "metadata": {},
   "outputs": [
    {
     "data": {
      "text/plain": [
       "array([['$', 'a', 'c', 'a', 'a', 'c', 'g'],\n",
       "       ['a', 'a', 'c', 'g', '$', 'a', 'c'],\n",
       "       ['a', 'c', 'a', 'a', 'c', 'g', '$'],\n",
       "       ['a', 'c', 'g', '$', 'a', 'c', 'a'],\n",
       "       ['c', 'a', 'a', 'c', 'g', '$', 'a'],\n",
       "       ['c', 'g', '$', 'a', 'c', 'a', 'a'],\n",
       "       ['g', '$', 'a', 'c', 'a', 'a', 'c']], dtype='<U1')"
      ]
     },
     "execution_count": 19,
     "metadata": {},
     "output_type": "execute_result"
    }
   ],
   "source": [
    "sorted_bwm"
   ]
  },
  {
   "cell_type": "code",
   "execution_count": 20,
   "id": "29fec12d-7d7e-4175-8ffd-563b8abda73f",
   "metadata": {},
   "outputs": [],
   "source": [
    "bwt_first = sorted_bwm[:, 0]\n",
    "bwt_last = sorted_bwm[:, -1]"
   ]
  },
  {
   "cell_type": "code",
   "execution_count": 21,
   "id": "1de9cd19-1ad0-4e85-b92e-fcf2d722354a",
   "metadata": {},
   "outputs": [
    {
     "data": {
      "text/plain": [
       "array(['$', 'a', 'a', 'a', 'c', 'c', 'g'], dtype='<U1')"
      ]
     },
     "execution_count": 21,
     "metadata": {},
     "output_type": "execute_result"
    }
   ],
   "source": [
    "bwt_first"
   ]
  },
  {
   "cell_type": "code",
   "execution_count": 22,
   "id": "e982d608-bf07-42c4-bfb5-8384431e5ec3",
   "metadata": {},
   "outputs": [
    {
     "data": {
      "text/plain": [
       "array(['g', 'c', '$', 'a', 'a', 'a', 'c'], dtype='<U1')"
      ]
     },
     "execution_count": 22,
     "metadata": {},
     "output_type": "execute_result"
    }
   ],
   "source": [
    "bwt_last"
   ]
  },
  {
   "cell_type": "code",
   "execution_count": 103,
   "id": "0a8c11d7-63f9-4ffe-b452-f0fccf398b1d",
   "metadata": {},
   "outputs": [],
   "source": [
    "def burrows_wheeler_transform(sequence):\n",
    "    sequence += \"$\"\n",
    "    sequence_list = list(sequence)\n",
    "    \n",
    "    bwm = [] \n",
    "    \n",
    "    for i in range(len(sequence_list)):\n",
    "        bwm.append(sequence_list.copy())\n",
    "        first_seq = sequence_list.pop(0)  # 첫 번째 'a'를 제거\n",
    "        sequence_list.append(first_seq) #지운 'a'를 맨 뒤로 보냅니다\n",
    "    \n",
    "    bwm = np.array(bwm)\n",
    "    \n",
    "    sorted_bwm = bwm[bwm[:, 0].argsort()]\n",
    "\n",
    "    bwt_first = sorted_bwm[:, 0]\n",
    "    bwt_last = sorted_bwm[:, -1]\n",
    "\n",
    "    return bwt_first, bwt_last"
   ]
  },
  {
   "cell_type": "markdown",
   "id": "cca2ab07-878b-44f4-b71a-5d44954b644b",
   "metadata": {},
   "source": [
    "# LF mapping 하기"
   ]
  },
  {
   "cell_type": "code",
   "execution_count": 24,
   "id": "4844e3d1-ab32-4433-96e8-6fe5b55e841a",
   "metadata": {},
   "outputs": [],
   "source": [
    "char_first_loc = {}\n",
    "for index, char in enumerate(bwt_first):\n",
    "    if char not in char_first_loc.keys():\n",
    "        char_first_loc[char] = []\n",
    "    char_first_loc[char].append(index)    "
   ]
  },
  {
   "cell_type": "code",
   "execution_count": 26,
   "id": "ada278dc-fade-4e7d-b5a4-d17bc9d0c915",
   "metadata": {},
   "outputs": [],
   "source": [
    "char_last_loc = {}\n",
    "for index, char in enumerate(bwt_last):\n",
    "    if char not in char_last_loc.keys():\n",
    "        char_last_loc[char] = []\n",
    "    char_last_loc[char].append(index)        "
   ]
  },
  {
   "cell_type": "code",
   "execution_count": 25,
   "id": "2c993c54-ecc0-4bc6-aeb2-c33df8c460f5",
   "metadata": {},
   "outputs": [
    {
     "data": {
      "text/plain": [
       "{'$': [0], 'a': [1, 2, 3], 'c': [4, 5], 'g': [6]}"
      ]
     },
     "execution_count": 25,
     "metadata": {},
     "output_type": "execute_result"
    }
   ],
   "source": [
    "char_first_loc"
   ]
  },
  {
   "cell_type": "code",
   "execution_count": 27,
   "id": "a77a34c8-091c-4806-9d40-1c899da0754f",
   "metadata": {},
   "outputs": [
    {
     "data": {
      "text/plain": [
       "{'g': [0], 'c': [1, 6], '$': [2], 'a': [3, 4, 5]}"
      ]
     },
     "execution_count": 27,
     "metadata": {},
     "output_type": "execute_result"
    }
   ],
   "source": [
    "char_last_loc"
   ]
  },
  {
   "cell_type": "code",
   "execution_count": 28,
   "id": "bdf8eb1a-901e-4589-9694-005e617e6de4",
   "metadata": {},
   "outputs": [],
   "source": [
    "t = np.array([])"
   ]
  },
  {
   "cell_type": "code",
   "execution_count": 29,
   "id": "25902aed-35a3-4c4a-af83-20bce4b4f8ca",
   "metadata": {},
   "outputs": [
    {
     "data": {
      "text/plain": [
       "array([], dtype=float64)"
      ]
     },
     "execution_count": 29,
     "metadata": {},
     "output_type": "execute_result"
    }
   ],
   "source": [
    "t"
   ]
  },
  {
   "cell_type": "code",
   "execution_count": 30,
   "id": "e129635c-ea77-45e8-b8ef-436b79ca675e",
   "metadata": {},
   "outputs": [
    {
     "data": {
      "text/plain": [
       "array(['g'], dtype='<U32')"
      ]
     },
     "execution_count": 30,
     "metadata": {},
     "output_type": "execute_result"
    }
   ],
   "source": [
    "t = np.append(t, bwt_last[0])\n",
    "t"
   ]
  },
  {
   "cell_type": "code",
   "execution_count": 83,
   "id": "2a15960f-37be-4f95-afe1-930ed45b3eca",
   "metadata": {},
   "outputs": [
    {
     "data": {
      "text/plain": [
       "'g'"
      ]
     },
     "execution_count": 83,
     "metadata": {},
     "output_type": "execute_result"
    }
   ],
   "source": [
    "bwt_last[0]"
   ]
  },
  {
   "cell_type": "code",
   "execution_count": 84,
   "id": "90645dc7-7cf9-427a-b1aa-77334abbbc55",
   "metadata": {},
   "outputs": [
    {
     "data": {
      "text/plain": [
       "array(['c'], dtype='<U1')"
      ]
     },
     "execution_count": 84,
     "metadata": {},
     "output_type": "execute_result"
    }
   ],
   "source": [
    "bwt_last[char_first_loc[bwt_last[0]]]"
   ]
  },
  {
   "cell_type": "code",
   "execution_count": 55,
   "id": "d8ac6f48-779b-497e-a160-500ccfef9bba",
   "metadata": {},
   "outputs": [],
   "source": [
    "second_seq_index = char_first_loc[bwt_last[0]]"
   ]
  },
  {
   "cell_type": "code",
   "execution_count": 56,
   "id": "adb1cb29-12f2-407e-ac4a-60fe77a7d19e",
   "metadata": {},
   "outputs": [],
   "source": [
    "second_seq_index = int(second_seq_index[0])"
   ]
  },
  {
   "cell_type": "code",
   "execution_count": 67,
   "id": "c5999d2d-c78a-49c9-8b78-2eaef6a19af7",
   "metadata": {},
   "outputs": [
    {
     "data": {
      "text/plain": [
       "6"
      ]
     },
     "execution_count": 67,
     "metadata": {},
     "output_type": "execute_result"
    }
   ],
   "source": [
    "second_seq_index"
   ]
  },
  {
   "cell_type": "code",
   "execution_count": 68,
   "id": "39ab8e00-15c8-4bbd-9ca0-3b5ce5ed18ae",
   "metadata": {},
   "outputs": [
    {
     "data": {
      "text/plain": [
       "'c'"
      ]
     },
     "execution_count": 68,
     "metadata": {},
     "output_type": "execute_result"
    }
   ],
   "source": [
    "bwt_last[second_seq_index]"
   ]
  },
  {
   "cell_type": "code",
   "execution_count": 71,
   "id": "b2634d7b-2298-478c-900d-08f96ee41400",
   "metadata": {},
   "outputs": [
    {
     "data": {
      "text/plain": [
       "1"
      ]
     },
     "execution_count": 71,
     "metadata": {},
     "output_type": "execute_result"
    }
   ],
   "source": [
    "char_last_loc[bwt_last[second_seq_index]].index(second_seq_index)"
   ]
  },
  {
   "cell_type": "code",
   "execution_count": 74,
   "id": "b12759ba-ee9b-43f1-92b0-5a5783225630",
   "metadata": {},
   "outputs": [
    {
     "data": {
      "text/plain": [
       "[4, 5]"
      ]
     },
     "execution_count": 74,
     "metadata": {},
     "output_type": "execute_result"
    }
   ],
   "source": [
    "char_first_loc[bwt_last[second_seq_index]]"
   ]
  },
  {
   "cell_type": "code",
   "execution_count": 77,
   "id": "85435e5c-32e8-4a75-ba90-9c1e03463416",
   "metadata": {},
   "outputs": [],
   "source": [
    "third_seq_index = char_first_loc[bwt_last[second_seq_index]][char_last_loc[bwt_last[second_seq_index]].index(second_seq_index)]"
   ]
  },
  {
   "cell_type": "code",
   "execution_count": 76,
   "id": "77a295f2-7781-488b-990f-d4c30329ffd9",
   "metadata": {},
   "outputs": [
    {
     "data": {
      "text/plain": [
       "5"
      ]
     },
     "execution_count": 76,
     "metadata": {},
     "output_type": "execute_result"
    }
   ],
   "source": [
    "third_seq_index"
   ]
  },
  {
   "cell_type": "code",
   "execution_count": 78,
   "id": "a707b5b8-b29a-4b1b-bb09-b7925ab17dcd",
   "metadata": {},
   "outputs": [
    {
     "data": {
      "text/plain": [
       "'a'"
      ]
     },
     "execution_count": 78,
     "metadata": {},
     "output_type": "execute_result"
    }
   ],
   "source": [
    "bwt_last[third_seq_index]"
   ]
  },
  {
   "cell_type": "code",
   "execution_count": 79,
   "id": "5ebb3db2-f256-4c9f-bcef-0b201cfb0414",
   "metadata": {},
   "outputs": [
    {
     "data": {
      "text/plain": [
       "2"
      ]
     },
     "execution_count": 79,
     "metadata": {},
     "output_type": "execute_result"
    }
   ],
   "source": [
    "char_last_loc[bwt_last[third_seq_index]].index(third_seq_index)"
   ]
  },
  {
   "cell_type": "code",
   "execution_count": 80,
   "id": "6527d0ed-ba60-4432-8a49-1d535fed84d2",
   "metadata": {},
   "outputs": [
    {
     "data": {
      "text/plain": [
       "[1, 2, 3]"
      ]
     },
     "execution_count": 80,
     "metadata": {},
     "output_type": "execute_result"
    }
   ],
   "source": [
    "char_first_loc[bwt_last[third_seq_index]]"
   ]
  },
  {
   "cell_type": "code",
   "execution_count": 81,
   "id": "0439137d-7010-46ad-9cbd-3f03fe76a9e9",
   "metadata": {},
   "outputs": [],
   "source": [
    "fourth_seq_index = char_first_loc[bwt_last[third_seq_index]][char_last_loc[bwt_last[third_seq_index]].index(third_seq_index)]"
   ]
  },
  {
   "cell_type": "code",
   "execution_count": 82,
   "id": "55b1c60e-445a-4593-9449-05b1162a8494",
   "metadata": {},
   "outputs": [
    {
     "data": {
      "text/plain": [
       "3"
      ]
     },
     "execution_count": 82,
     "metadata": {},
     "output_type": "execute_result"
    }
   ],
   "source": [
    "fourth_seq_index"
   ]
  },
  {
   "cell_type": "code",
   "execution_count": 102,
   "id": "f9d46932-578e-494c-b23b-567bfd20248c",
   "metadata": {},
   "outputs": [
    {
     "name": "stdout",
     "output_type": "stream",
     "text": [
      "6\n",
      "5\n",
      "['c' 'g']\n"
     ]
    }
   ],
   "source": [
    "original_sequence = np.array([])\n",
    "first_seq_index = 0\n",
    "seq = bwt_last[first_seq_index] #가장 처음으로 입력되는, 즉 뒤에서 첫번째는 bwt_last의 첫번째 시퀀스\n",
    "original_sequence = np.append(seq, original_sequence)\n",
    "seq_last_index = char_last_loc[bwt_last[first_seq_index]].index(first_seq_index)\n",
    "next_seq_index = char_first_loc[seq][seq_last_index]\n",
    "\n",
    "print(next_seq_index)\n",
    "\n",
    "seq = bwt_last[next_seq_index] \n",
    "original_sequence = np.append(seq, original_sequence)\n",
    "seq_last_index = char_last_loc[bwt_last[next_seq_index]].index(next_seq_index)\n",
    "next_seq_index = char_first_loc[seq][seq_last_index]\n",
    "\n",
    "print(next_seq_index)\n",
    "print(original_sequence)"
   ]
  },
  {
   "cell_type": "code",
   "execution_count": 104,
   "id": "e655ed54-48e5-4972-b23a-d92a7afc3f2a",
   "metadata": {},
   "outputs": [
    {
     "name": "stdout",
     "output_type": "stream",
     "text": [
      "['$' 'a' 'c' 'a' 'a' 'c' 'g']\n"
     ]
    }
   ],
   "source": [
    "def lf_mapping(bwt_first, bwt_last):\n",
    "    char_first_loc = {}\n",
    "    for index, char in enumerate(bwt_first):\n",
    "        if char not in char_first_loc.keys():\n",
    "            char_first_loc[char] = []\n",
    "        char_first_loc[char].append(index) \n",
    "        \n",
    "    char_last_loc = {}\n",
    "    for index, char in enumerate(bwt_last):\n",
    "        if char not in char_last_loc.keys():\n",
    "            char_last_loc[char] = []\n",
    "        char_last_loc[char].append(index)    \n",
    "        \n",
    "    original_sequence = np.array([])\n",
    "    next_seq_index = 0\n",
    "    \n",
    "    for i in range(len(bwt_last)):\n",
    "        seq = bwt_last[next_seq_index] #가장 처음으로 입력되는, 즉 뒤에서 첫번째는 bwt_last의 첫번째 시퀀스\n",
    "        original_sequence = np.append(seq, original_sequence)\n",
    "        seq_last_index = char_last_loc[bwt_last[next_seq_index]].index(next_seq_index)\n",
    "        next_seq_index = char_first_loc[seq][seq_last_index]\n",
    "    return(original_sequence)\n",
    "\n",
    "print(lf_mapping(bwt_first, bwt_last))"
   ]
  },
  {
   "cell_type": "code",
   "execution_count": 105,
   "id": "97b12c34-f443-4651-b4ef-1882c2fc2512",
   "metadata": {},
   "outputs": [],
   "source": [
    "#retrieve_alignment"
   ]
  },
  {
   "cell_type": "code",
   "execution_count": 106,
   "id": "241caba2-7cc5-4276-b390-caf41cab4162",
   "metadata": {},
   "outputs": [],
   "source": [
    "query = ['a','a','c']"
   ]
  },
  {
   "cell_type": "code",
   "execution_count": 147,
   "id": "fef5fe43-2065-4b22-a4c8-2ff1d2287706",
   "metadata": {},
   "outputs": [],
   "source": [
    "finding = np.array([])"
   ]
  },
  {
   "cell_type": "code",
   "execution_count": 114,
   "id": "c411c91f-527c-4fcb-976d-797e3a4eab6d",
   "metadata": {},
   "outputs": [],
   "source": [
    "first = query[-1]"
   ]
  },
  {
   "cell_type": "code",
   "execution_count": 116,
   "id": "5d41fd4e-f935-454c-857f-53f58c9d937c",
   "metadata": {},
   "outputs": [],
   "source": [
    "first_pool = char_first_loc[query[-1]]"
   ]
  },
  {
   "cell_type": "code",
   "execution_count": 117,
   "id": "f9b12094-bbbf-46ff-a157-0e7e4217779e",
   "metadata": {},
   "outputs": [
    {
     "data": {
      "text/plain": [
       "[4, 5]"
      ]
     },
     "execution_count": 117,
     "metadata": {},
     "output_type": "execute_result"
    }
   ],
   "source": [
    "first_pool"
   ]
  },
  {
   "cell_type": "code",
   "execution_count": 126,
   "id": "750f92c6-c609-4e60-803e-c47749644b8f",
   "metadata": {},
   "outputs": [
    {
     "name": "stdout",
     "output_type": "stream",
     "text": [
      "5\n"
     ]
    }
   ],
   "source": [
    "finding = np.array([])\n",
    "\n",
    "for i in range(len(query)):\n",
    "    first_search = query[-1]\n",
    "    first_pool = char_first_loc[first_search]\n",
    "    \n",
    "    for next_seq_index in first_pool:\n",
    "        seq = bwt_first[next_seq_index]\n",
    "        if seq == query[len(query)-1]:\n",
    "            finding = np.append(seq, finding)\n",
    "            break\n",
    "        else:\n",
    "            pass\n",
    "            \n",
    "    seq_last_index = char_last_loc[bwt_last[next_seq_index]].index(next_seq_index)\n",
    "    next_seq_index = char_first_loc[seq][seq_last_index]\n",
    "    print\n",
    "print(next_seq_index)\n",
    "    "
   ]
  },
  {
   "cell_type": "code",
   "execution_count": 127,
   "id": "9f066ac0-47ab-45b8-b8d2-e2cdcb1fb322",
   "metadata": {},
   "outputs": [
    {
     "data": {
      "text/plain": [
       "'c'"
      ]
     },
     "execution_count": 127,
     "metadata": {},
     "output_type": "execute_result"
    }
   ],
   "source": [
    "query[-1]"
   ]
  },
  {
   "cell_type": "code",
   "execution_count": 128,
   "id": "881cc671-8ed9-40a4-9edb-4778606c23ae",
   "metadata": {},
   "outputs": [
    {
     "data": {
      "text/plain": [
       "[4, 5]"
      ]
     },
     "execution_count": 128,
     "metadata": {},
     "output_type": "execute_result"
    }
   ],
   "source": [
    "char_first_loc[query[-1]]"
   ]
  },
  {
   "cell_type": "code",
   "execution_count": 138,
   "id": "a3ffb08b-fa77-460d-809c-2980d9259535",
   "metadata": {},
   "outputs": [],
   "source": [
    "idx = char_first_loc[query[-1]][0]"
   ]
  },
  {
   "cell_type": "code",
   "execution_count": 148,
   "id": "42da4d25-de5a-4d98-b55d-af397657abaf",
   "metadata": {},
   "outputs": [],
   "source": [
    "finding = np.append(bwt_first[idx],finding)"
   ]
  },
  {
   "cell_type": "code",
   "execution_count": 149,
   "id": "4b09d667-fcbf-4aa5-a530-eaeba231fb7f",
   "metadata": {},
   "outputs": [
    {
     "data": {
      "text/plain": [
       "'a'"
      ]
     },
     "execution_count": 149,
     "metadata": {},
     "output_type": "execute_result"
    }
   ],
   "source": [
    "left = bwt_last[idx]\n",
    "left"
   ]
  },
  {
   "cell_type": "code",
   "execution_count": 150,
   "id": "bc3e6e38-79e2-4680-80e4-417b173f07cf",
   "metadata": {},
   "outputs": [],
   "source": [
    "seq_last_index = char_last_loc[left].index(idx)\n",
    "next_seq_index = char_first_loc[left][seq_last_index]"
   ]
  },
  {
   "cell_type": "code",
   "execution_count": 151,
   "id": "db7ea75e-dcf2-44c3-918c-a80246d2d195",
   "metadata": {},
   "outputs": [
    {
     "data": {
      "text/plain": [
       "'a'"
      ]
     },
     "execution_count": 151,
     "metadata": {},
     "output_type": "execute_result"
    }
   ],
   "source": [
    "bwt_first[next_seq_index]"
   ]
  },
  {
   "cell_type": "code",
   "execution_count": 156,
   "id": "d4a65411-c829-40fd-b0a3-a8aed07b058b",
   "metadata": {},
   "outputs": [
    {
     "data": {
      "text/plain": [
       "1"
      ]
     },
     "execution_count": 156,
     "metadata": {},
     "output_type": "execute_result"
    }
   ],
   "source": [
    "seq_last_index"
   ]
  },
  {
   "cell_type": "code",
   "execution_count": 152,
   "id": "398e7fa2-6ba1-46d8-8843-014797cd327e",
   "metadata": {},
   "outputs": [],
   "source": [
    "if bwt_last[next_seq_index] == query[-2]:\n",
    "    finding = np.append(bwt_first[next_seq_index],finding)"
   ]
  },
  {
   "cell_type": "code",
   "execution_count": 153,
   "id": "9bd5740a-535e-4dde-a189-db96b2c2bbc5",
   "metadata": {},
   "outputs": [
    {
     "data": {
      "text/plain": [
       "array(['a', 'c'], dtype='<U32')"
      ]
     },
     "execution_count": 153,
     "metadata": {},
     "output_type": "execute_result"
    }
   ],
   "source": [
    "finding"
   ]
  },
  {
   "cell_type": "code",
   "execution_count": 155,
   "id": "79f6263e-6efd-4fcb-901c-8ff9f44e2e33",
   "metadata": {},
   "outputs": [
    {
     "data": {
      "text/plain": [
       "'$'"
      ]
     },
     "execution_count": 155,
     "metadata": {},
     "output_type": "execute_result"
    }
   ],
   "source": [
    "bwt_last[next_seq_index] == "
   ]
  },
  {
   "cell_type": "code",
   "execution_count": null,
   "id": "05948554-8a70-4f11-b041-8cbce7b40e5b",
   "metadata": {},
   "outputs": [],
   "source": []
  }
 ],
 "metadata": {
  "kernelspec": {
   "display_name": "Python 3 (ipykernel)",
   "language": "python",
   "name": "python3"
  },
  "language_info": {
   "codemirror_mode": {
    "name": "ipython",
    "version": 3
   },
   "file_extension": ".py",
   "mimetype": "text/x-python",
   "name": "python",
   "nbconvert_exporter": "python",
   "pygments_lexer": "ipython3",
   "version": "3.12.2"
  }
 },
 "nbformat": 4,
 "nbformat_minor": 5
}
