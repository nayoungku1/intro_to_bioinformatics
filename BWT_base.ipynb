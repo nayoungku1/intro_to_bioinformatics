{
 "cells": [
  {
   "cell_type": "markdown",
   "id": "e92c5db3-9428-44be-9719-20b2a211186d",
   "metadata": {},
   "source": [
    "# Burrows-Wheeler Transform를 구현하여 BWT와 Suffix Array 구하기\n",
    "* Name: 구나영\n",
    "* Student ID: 22101006\n",
    "* Date: September 19, 2024\n",
    "* Fall 2024 Bioinformatics"
   ]
  },
  {
   "cell_type": "markdown",
   "id": "a19552bb-8320-47bb-a3d8-cda0ce11bac3",
   "metadata": {},
   "source": [
    "# Procedures "
   ]
  },
  {
   "cell_type": "code",
   "execution_count": 1,
   "id": "c6653d8c-17a7-4a04-807c-91be079d8e39",
   "metadata": {},
   "outputs": [],
   "source": [
    "import numpy as np"
   ]
  },
  {
   "cell_type": "markdown",
   "id": "cc7cc976-256e-4e1d-affa-c3c9100e7a19",
   "metadata": {},
   "source": [
    "## 1. 입력 문자열 준비"
   ]
  },
  {
   "cell_type": "code",
   "execution_count": 2,
   "id": "c4db62e1-1509-48e1-95bd-4f6f3f68e1ab",
   "metadata": {},
   "outputs": [
    {
     "name": "stdin",
     "output_type": "stream",
     "text": [
      "sequence: attaggact\n"
     ]
    }
   ],
   "source": [
    "sequence = input(\"sequence:\") #과제에서의 입력값 = attaggact"
   ]
  },
  {
   "cell_type": "code",
   "execution_count": 3,
   "id": "7f0312d0-867b-4180-8fc0-99d9ae52d82f",
   "metadata": {},
   "outputs": [],
   "source": [
    "sequence += \"$\""
   ]
  },
  {
   "cell_type": "code",
   "execution_count": 4,
   "id": "9061b060-3a71-48bd-a498-72adba75b9f4",
   "metadata": {},
   "outputs": [],
   "source": [
    "sequence_list = list(sequence)"
   ]
  },
  {
   "cell_type": "code",
   "execution_count": 5,
   "id": "b0f925d4-d1f2-4ae5-bf8b-bcbbc5e98d28",
   "metadata": {},
   "outputs": [
    {
     "data": {
      "text/plain": [
       "['a', 't', 't', 'a', 'g', 'g', 'a', 'c', 't', '$']"
      ]
     },
     "execution_count": 5,
     "metadata": {},
     "output_type": "execute_result"
    }
   ],
   "source": [
    "sequence_list"
   ]
  },
  {
   "cell_type": "markdown",
   "id": "d2d34ac6-80f5-449e-b394-79d58e411704",
   "metadata": {},
   "source": [
    "## 2. 회전 행렬 생성\n",
    "* 문자열의 모든 순환(rotation) 버전을 만드는 과정\n",
    "* 순환: 문자열의 각 문자가 하나씩 왼쪽으로 밀리고, 맨 앞에 있던 문자가 맨 뒤로 가는 과정을 반복하는 것"
   ]
  },
  {
   "cell_type": "markdown",
   "id": "5cce42f5-02af-4dad-85e9-8c9fa7c61962",
   "metadata": {},
   "source": [
    "#### 순환(rotation)의 과정"
   ]
  },
  {
   "cell_type": "markdown",
   "id": "15de495b-fd5c-4a8d-acf8-c525a6d01eb0",
   "metadata": {},
   "source": [
    "***EXAMPLE: Sequence = ATGC***\n",
    "\n",
    "***Versions:***\n",
    "1. 원본 문자열: \n",
    "**ATGC$**  (아무 변화 없음)\n",
    "\n",
    "2. 한 칸 왼쪽으로 밀기:\n",
    "맨 앞의 A를 맨 뒤로 보냄\n",
    "**TGC$A** \n",
    "\n",
    "3. 다시 한 칸 왼쪽으로 밀기:\n",
    "T를 맨 뒤로 보냄\n",
    "**GC$AT** \n",
    "\n",
    "4. 또 한 칸 왼쪽으로 밀기:\n",
    "G를 맨 뒤로 보냄\n",
    "**C$ATG** \n",
    "\n",
    "\n",
    "5. 마지막으로 한 칸 왼쪽으로 밀기:\n",
    "C를 맨 뒤로 보냄\n",
    "**$ATGC** "
   ]
  },
  {
   "cell_type": "code",
   "execution_count": 6,
   "id": "6a3e4ac1-acd6-4ab0-99bb-5329fc795913",
   "metadata": {},
   "outputs": [],
   "source": [
    "bwm = [] \n",
    "\n",
    "for i in range(len(sequence_list)):\n",
    "    bwm.append(sequence_list.copy())\n",
    "    # 첫 번째 시퀀스를 제거\n",
    "    first_seq = sequence_list.pop(0)  \n",
    "    #지운 시퀀스를 맨 뒤로 보내기\n",
    "    sequence_list.append(first_seq) "
   ]
  },
  {
   "cell_type": "code",
   "execution_count": 7,
   "id": "7e623005",
   "metadata": {},
   "outputs": [
    {
     "data": {
      "text/plain": [
       "[['a', 't', 't', 'a', 'g', 'g', 'a', 'c', 't', '$'],\n",
       " ['t', 't', 'a', 'g', 'g', 'a', 'c', 't', '$', 'a'],\n",
       " ['t', 'a', 'g', 'g', 'a', 'c', 't', '$', 'a', 't'],\n",
       " ['a', 'g', 'g', 'a', 'c', 't', '$', 'a', 't', 't'],\n",
       " ['g', 'g', 'a', 'c', 't', '$', 'a', 't', 't', 'a'],\n",
       " ['g', 'a', 'c', 't', '$', 'a', 't', 't', 'a', 'g'],\n",
       " ['a', 'c', 't', '$', 'a', 't', 't', 'a', 'g', 'g'],\n",
       " ['c', 't', '$', 'a', 't', 't', 'a', 'g', 'g', 'a'],\n",
       " ['t', '$', 'a', 't', 't', 'a', 'g', 'g', 'a', 'c'],\n",
       " ['$', 'a', 't', 't', 'a', 'g', 'g', 'a', 'c', 't']]"
      ]
     },
     "execution_count": 7,
     "metadata": {},
     "output_type": "execute_result"
    }
   ],
   "source": [
    "bwm "
   ]
  },
  {
   "cell_type": "code",
   "execution_count": 8,
   "id": "3f99b6ad-98a1-47f2-8255-6e0b80567a0c",
   "metadata": {},
   "outputs": [],
   "source": [
    "#numpy array로 변환\n",
    "bwm = np.array(bwm) "
   ]
  },
  {
   "cell_type": "markdown",
   "id": "eb918d5b-354e-4d0a-a891-9f2c6b392a75",
   "metadata": {},
   "source": [
    "## 3. 회전 행렬 정렬\n",
    "생성된 모든 회전을 사전순으로 정렬 -> SUFFIX ARRAY"
   ]
  },
  {
   "cell_type": "markdown",
   "id": "0760fbb4-c157-491f-8f74-e99821bf8f0c",
   "metadata": {},
   "source": [
    "***EXAMPLE: \"attaggact\"***\n",
    "#### (1) 문자열의 각 접미사(suffix)를 기준으로 볼 수 있음\n",
    "\n",
    "0. attaggact\n",
    "1. ttaggact\n",
    "2. taggact\n",
    "3. aggact\n",
    "4. ggact\n",
    "5. gact\n",
    "6. act \n",
    "7. ct \n",
    "8. t\n",
    "9. $"
   ]
  },
  {
   "cell_type": "code",
   "execution_count": 9,
   "id": "4ddd1865-2991-429c-a2d5-96d444ca24d2",
   "metadata": {},
   "outputs": [
    {
     "data": {
      "text/plain": [
       "array(['a', 't', 't', 'a', 'g', 'g', 'a', 'c', 't', '$'], dtype='<U1')"
      ]
     },
     "execution_count": 9,
     "metadata": {},
     "output_type": "execute_result"
    }
   ],
   "source": [
    "bwm[:, 0] "
   ]
  },
  {
   "cell_type": "markdown",
   "id": "48866330-d799-40ca-8af8-a5df122b6ca7",
   "metadata": {},
   "source": [
    "#### (2) 사전식으로 정렬\n",
    "***EXAMPLE: \"attaggact\"***\n",
    "* 순서: 9. ***$*** -> 6. ***act*** -> 3. ***aggact*** -> 0. ***attaggact*** -> 7. ***ct*** -> 5. ***gact*** -> 4. ***ggact*** -> 8. ***t*** -> 2. ***taggact*** -> 1. ***ttaggact***\n",
    "* ***9*** -> ***6*** -> ***3*** -> ***0*** -> ***7*** -> ***5*** -> ***4*** -> ***8*** -> ***2*** -> ***1***"
   ]
  },
  {
   "cell_type": "code",
   "execution_count": 10,
   "id": "2dc1f9fd-2480-4ada-82f2-b1ce3767248f",
   "metadata": {},
   "outputs": [],
   "source": [
    "sorted_bwm = bwm[np.lexsort([bwm[:, i] for i in range((bwm.shape[1]-1), -1, -1)])]"
   ]
  },
  {
   "cell_type": "code",
   "execution_count": 11,
   "id": "0a444a7a-fc35-470e-9d79-efea51908c47",
   "metadata": {},
   "outputs": [
    {
     "data": {
      "text/plain": [
       "array([['$', 'a', 't', 't', 'a', 'g', 'g', 'a', 'c', 't'],\n",
       "       ['a', 'c', 't', '$', 'a', 't', 't', 'a', 'g', 'g'],\n",
       "       ['a', 'g', 'g', 'a', 'c', 't', '$', 'a', 't', 't'],\n",
       "       ['a', 't', 't', 'a', 'g', 'g', 'a', 'c', 't', '$'],\n",
       "       ['c', 't', '$', 'a', 't', 't', 'a', 'g', 'g', 'a'],\n",
       "       ['g', 'a', 'c', 't', '$', 'a', 't', 't', 'a', 'g'],\n",
       "       ['g', 'g', 'a', 'c', 't', '$', 'a', 't', 't', 'a'],\n",
       "       ['t', '$', 'a', 't', 't', 'a', 'g', 'g', 'a', 'c'],\n",
       "       ['t', 'a', 'g', 'g', 'a', 'c', 't', '$', 'a', 't'],\n",
       "       ['t', 't', 'a', 'g', 'g', 'a', 'c', 't', '$', 'a']], dtype='<U1')"
      ]
     },
     "execution_count": 11,
     "metadata": {},
     "output_type": "execute_result"
    }
   ],
   "source": [
    "sorted_bwm"
   ]
  },
  {
   "cell_type": "markdown",
   "id": "fa957762-786d-4327-99ab-443e0aea6c30",
   "metadata": {},
   "source": [
    "#### (+) SUFFIX ARRAY로 나타내기\n",
    ": 정렬된 접미사의 원래 위치를 인덱스로 나타내기\n",
    "\n",
    "* 순서: 9 -> 6 -> 3 -> 0 -> 7 -> 5 -> 4 -> 8 -> 2 -> 1\n",
    "* [9, 6, 3, 0, 7, 5, 4, 8, 2, 1]"
   ]
  },
  {
   "cell_type": "code",
   "execution_count": 12,
   "id": "d4c8a7de-754a-4f31-9bf1-db6918c4a96b",
   "metadata": {},
   "outputs": [],
   "source": [
    "suffix_array = np.lexsort([bwm[:, i] for i in range((bwm.shape[1]-1), -1, -1)])"
   ]
  },
  {
   "cell_type": "markdown",
   "id": "5e10272c-6537-451d-866d-441b852edf8b",
   "metadata": {},
   "source": [
    "#4. "
   ]
  },
  {
   "cell_type": "code",
   "execution_count": 13,
   "id": "29fec12d-7d7e-4175-8ffd-563b8abda73f",
   "metadata": {},
   "outputs": [],
   "source": [
    "bwt_first = sorted_bwm[:, 0]\n",
    "bwt_last = sorted_bwm[:, -1]"
   ]
  },
  {
   "cell_type": "code",
   "execution_count": 14,
   "id": "1de9cd19-1ad0-4e85-b92e-fcf2d722354a",
   "metadata": {},
   "outputs": [
    {
     "data": {
      "text/plain": [
       "array(['$', 'a', 'a', 'a', 'c', 'g', 'g', 't', 't', 't'], dtype='<U1')"
      ]
     },
     "execution_count": 14,
     "metadata": {},
     "output_type": "execute_result"
    }
   ],
   "source": [
    "bwt_first"
   ]
  },
  {
   "cell_type": "code",
   "execution_count": 15,
   "id": "e982d608-bf07-42c4-bfb5-8384431e5ec3",
   "metadata": {},
   "outputs": [
    {
     "data": {
      "text/plain": [
       "array(['t', 'g', 't', '$', 'a', 'g', 'a', 'c', 't', 'a'], dtype='<U1')"
      ]
     },
     "execution_count": 15,
     "metadata": {},
     "output_type": "execute_result"
    }
   ],
   "source": [
    "bwt_last"
   ]
  },
  {
   "cell_type": "code",
   "execution_count": 16,
   "id": "7383cf8d-58b1-40b4-97b5-f5b18a358311",
   "metadata": {},
   "outputs": [],
   "source": [
    "bwt_result_string = ''.join(bwt_last)"
   ]
  },
  {
   "cell_type": "code",
   "execution_count": 17,
   "id": "718ed159-72a4-4e7c-8613-2c65dfc39897",
   "metadata": {},
   "outputs": [
    {
     "name": "stdout",
     "output_type": "stream",
     "text": [
      "BWT of attaggact$: tgt$agacta\n",
      "Suffix Array of attaggact$: [9 6 3 0 7 5 4 8 2 1]\n"
     ]
    }
   ],
   "source": [
    "print(f\"BWT of {sequence}:\", bwt_result_string)\n",
    "print(f\"Suffix Array of {sequence}:\", suffix_array)"
   ]
  },
  {
   "cell_type": "markdown",
   "id": "c0d59c3d-975f-46b6-a00d-f99ffb456cc3",
   "metadata": {},
   "source": [
    "# Conclusion"
   ]
  },
  {
   "cell_type": "code",
   "execution_count": 18,
   "id": "0a8c11d7-63f9-4ffe-b452-f0fccf398b1d",
   "metadata": {},
   "outputs": [],
   "source": [
    "def burrows_wheeler_transform(sequence):\n",
    "    sequence += \"$\"\n",
    "    sequence_list = list(sequence)\n",
    "    \n",
    "    bwm = [] \n",
    "    \n",
    "    for i in range(len(sequence_list)):\n",
    "        bwm.append(sequence_list.copy())\n",
    "        first_seq = sequence_list.pop(0) \n",
    "        sequence_list.append(first_seq) \n",
    "    \n",
    "    bwm = np.array(bwm)\n",
    "    \n",
    "    sorted_bwm = bwm[bwm[:, 0].argsort()]\n",
    "\n",
    "    bwt_first = sorted_bwm[:, 0]\n",
    "    bwt_last = sorted_bwm[:, -1]\n",
    "\n",
    "    return bwt_first, bwt_last"
   ]
  },
  {
   "cell_type": "markdown",
   "id": "a572b3f1-5fb3-4648-94f7-80127b92a959",
   "metadata": {},
   "source": [
    "#### 염기서열, attaggact에 대하여:\n",
    "### BWT = tgt$agacta\n",
    "### Suffix Array = [9, 6, 3, 0, 7, 5, 4, 8, 2, 1]"
   ]
  },
  {
   "cell_type": "markdown",
   "id": "d19f8050-c8ff-4d7f-9c46-0ea861680948",
   "metadata": {},
   "source": [
    "## Contribution\n",
    "* Main logics are based on the content of the lecture slides\n",
    "* Some of the codes and explanations were written with the help of ChatGPT"
   ]
  }
 ],
 "metadata": {
  "kernelspec": {
   "display_name": "Python 3 (ipykernel)",
   "language": "python",
   "name": "python3"
  },
  "language_info": {
   "codemirror_mode": {
    "name": "ipython",
    "version": 3
   },
   "file_extension": ".py",
   "mimetype": "text/x-python",
   "name": "python",
   "nbconvert_exporter": "python",
   "pygments_lexer": "ipython3",
   "version": "3.12.2"
  }
 },
 "nbformat": 4,
 "nbformat_minor": 5
}
