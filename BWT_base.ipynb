{
 "cells": [
  {
   "cell_type": "markdown",
   "id": "e92c5db3-9428-44be-9719-20b2a211186d",
   "metadata": {},
   "source": [
    "# Burrows-Wheeler Transform Practice without Library"
   ]
  },
  {
   "cell_type": "markdown",
   "id": "5275ead8",
   "metadata": {},
   "source": [
    "Nayoung Ku | English Version | Fall 2024 Bioinformatics | School of Life Science | Handong Global University"
   ]
  },
  {
   "cell_type": "markdown",
   "id": "380b97cc",
   "metadata": {},
   "source": [
    "* Generated Date: Sep 12, 2024\n",
    "* Last modified: Sep 22, 2024"
   ]
  },
  {
   "cell_type": "markdown",
   "id": "a19552bb-8320-47bb-a3d8-cda0ce11bac3",
   "metadata": {},
   "source": [
    "# Procedures "
   ]
  },
  {
   "cell_type": "code",
   "execution_count": 1,
   "id": "c6653d8c-17a7-4a04-807c-91be079d8e39",
   "metadata": {},
   "outputs": [],
   "source": [
    "import numpy as np"
   ]
  },
  {
   "cell_type": "markdown",
   "id": "cc7cc976-256e-4e1d-affa-c3c9100e7a19",
   "metadata": {},
   "source": [
    "## 1. Prepare the sequence in string form"
   ]
  },
  {
   "cell_type": "code",
   "execution_count": 2,
   "id": "c4db62e1-1509-48e1-95bd-4f6f3f68e1ab",
   "metadata": {},
   "outputs": [
    {
     "name": "stdout",
     "output_type": "stream",
     "text": [
      "sequence: attaggact\n"
     ]
    }
   ],
   "source": [
    "#Input of the assignment = attaggact\n",
    "sequence = input(\"sequence:\") "
   ]
  },
  {
   "cell_type": "code",
   "execution_count": 3,
   "id": "7f0312d0-867b-4180-8fc0-99d9ae52d82f",
   "metadata": {},
   "outputs": [],
   "source": [
    "sequence += \"$\""
   ]
  },
  {
   "cell_type": "code",
   "execution_count": 4,
   "id": "9061b060-3a71-48bd-a498-72adba75b9f4",
   "metadata": {},
   "outputs": [],
   "source": [
    "sequence_list = list(sequence)"
   ]
  },
  {
   "cell_type": "code",
   "execution_count": 5,
   "id": "b0f925d4-d1f2-4ae5-bf8b-bcbbc5e98d28",
   "metadata": {},
   "outputs": [
    {
     "data": {
      "text/plain": [
       "['a', 't', 't', 'a', 'g', 'g', 'a', 'c', 't', '$']"
      ]
     },
     "execution_count": 5,
     "metadata": {},
     "output_type": "execute_result"
    }
   ],
   "source": [
    "sequence_list"
   ]
  },
  {
   "cell_type": "markdown",
   "id": "d2d34ac6-80f5-449e-b394-79d58e411704",
   "metadata": {},
   "source": [
    "## 2. Generate the rotation matrix\n",
    "* This is the process that generates the ***every rotation version*** of the given sequence \n",
    "* ***Rotation***: Repeating the process of each character in a string being pushed to the left one by one, and the front character goes to the back."
   ]
  },
  {
   "cell_type": "markdown",
   "id": "15de495b-fd5c-4a8d-acf8-c525a6d01eb0",
   "metadata": {},
   "source": [
    "***EXAMPLE: Sequence = ATGC***\n",
    "\n",
    "***Versions:***\n",
    "1. Original sequence: \n",
    "**ATGC$**  (No change)\n",
    "\n",
    "2. Push one character to the left:\n",
    "**TGC$A**  (Sent the front \"A\" to the back)\n",
    "\n",
    "3. Push one character to the left again:\n",
    "**GC$AT** (Sent the front \"T\" to the back)\n",
    "\n",
    "4. Push one character to the left again:\n",
    "**C$ATG** (Send the front \"G\" to the back)\n",
    "\n",
    "5. Push one character to the left for the last time:\n",
    "**$ATGC** (Send the front \"C\" to the back)"
   ]
  },
  {
   "cell_type": "code",
   "execution_count": 6,
   "id": "6a3e4ac1-acd6-4ab0-99bb-5329fc795913",
   "metadata": {},
   "outputs": [],
   "source": [
    "bwm = [] \n",
    "\n",
    "for i in range(len(sequence_list)):\n",
    "    bwm.append(sequence_list.copy())\n",
    "    # 첫 번째 시퀀스를 제거\n",
    "    first_seq = sequence_list.pop(0)  \n",
    "    #지운 시퀀스를 맨 뒤로 보내기\n",
    "    sequence_list.append(first_seq) "
   ]
  },
  {
   "cell_type": "code",
   "execution_count": 7,
   "id": "7e623005",
   "metadata": {},
   "outputs": [
    {
     "data": {
      "text/plain": [
       "[['a', 't', 't', 'a', 'g', 'g', 'a', 'c', 't', '$'],\n",
       " ['t', 't', 'a', 'g', 'g', 'a', 'c', 't', '$', 'a'],\n",
       " ['t', 'a', 'g', 'g', 'a', 'c', 't', '$', 'a', 't'],\n",
       " ['a', 'g', 'g', 'a', 'c', 't', '$', 'a', 't', 't'],\n",
       " ['g', 'g', 'a', 'c', 't', '$', 'a', 't', 't', 'a'],\n",
       " ['g', 'a', 'c', 't', '$', 'a', 't', 't', 'a', 'g'],\n",
       " ['a', 'c', 't', '$', 'a', 't', 't', 'a', 'g', 'g'],\n",
       " ['c', 't', '$', 'a', 't', 't', 'a', 'g', 'g', 'a'],\n",
       " ['t', '$', 'a', 't', 't', 'a', 'g', 'g', 'a', 'c'],\n",
       " ['$', 'a', 't', 't', 'a', 'g', 'g', 'a', 'c', 't']]"
      ]
     },
     "execution_count": 7,
     "metadata": {},
     "output_type": "execute_result"
    }
   ],
   "source": [
    "bwm "
   ]
  },
  {
   "cell_type": "code",
   "execution_count": 8,
   "id": "3f99b6ad-98a1-47f2-8255-6e0b80567a0c",
   "metadata": {},
   "outputs": [],
   "source": [
    "#numpy array로 변환\n",
    "bwm = np.array(bwm) "
   ]
  },
  {
   "cell_type": "markdown",
   "id": "eb918d5b-354e-4d0a-a891-9f2c6b392a75",
   "metadata": {},
   "source": [
    "## 3. Sort the rotation matrix \n",
    "* Sort the every generated rotation in dictionary order (ascending order) \n",
    "* ***Suffix array***: the array indexing the original position of the sorted suffix"
   ]
  },
  {
   "cell_type": "markdown",
   "id": "0760fbb4-c157-491f-8f74-e99821bf8f0c",
   "metadata": {},
   "source": [
    "***EXAMPLE: \"attaggact\"***\n",
    "#### (1) Organize based on each suffix of the string\n",
    "\n",
    "0. attaggact\n",
    "1. ttaggact\n",
    "2. taggact\n",
    "3. aggact\n",
    "4. ggact\n",
    "5. gact\n",
    "6. act \n",
    "7. ct \n",
    "8. t\n",
    "9. $"
   ]
  },
  {
   "cell_type": "code",
   "execution_count": 9,
   "id": "4ddd1865-2991-429c-a2d5-96d444ca24d2",
   "metadata": {},
   "outputs": [
    {
     "data": {
      "text/plain": [
       "array(['a', 't', 't', 'a', 'g', 'g', 'a', 'c', 't', '$'], dtype='<U1')"
      ]
     },
     "execution_count": 9,
     "metadata": {},
     "output_type": "execute_result"
    }
   ],
   "source": [
    "bwm[:, 0] "
   ]
  },
  {
   "cell_type": "markdown",
   "id": "48866330-d799-40ca-8af8-a5df122b6ca7",
   "metadata": {},
   "source": [
    "#### (2) Sort by alphabetical order\n",
    "***EXAMPLE: \"attaggact\"***\n",
    "* Order: 9. ***$*** -> 6. ***act*** -> 3. ***aggact*** -> 0. ***attaggact*** -> 7. ***ct*** -> 5. ***gact*** -> 4. ***ggact*** -> 8. ***t*** -> 2. ***taggact*** -> 1. ***ttaggact***\n",
    "* ***9*** -> ***6*** -> ***3*** -> ***0*** -> ***7*** -> ***5*** -> ***4*** -> ***8*** -> ***2*** -> ***1***"
   ]
  },
  {
   "cell_type": "code",
   "execution_count": 10,
   "id": "2dc1f9fd-2480-4ada-82f2-b1ce3767248f",
   "metadata": {},
   "outputs": [],
   "source": [
    "sorted_bwm = bwm[np.lexsort([bwm[:, i] for i in range((bwm.shape[1]-1), -1, -1)])]"
   ]
  },
  {
   "cell_type": "code",
   "execution_count": 11,
   "id": "0a444a7a-fc35-470e-9d79-efea51908c47",
   "metadata": {},
   "outputs": [
    {
     "data": {
      "text/plain": [
       "array([['$', 'a', 't', 't', 'a', 'g', 'g', 'a', 'c', 't'],\n",
       "       ['a', 'c', 't', '$', 'a', 't', 't', 'a', 'g', 'g'],\n",
       "       ['a', 'g', 'g', 'a', 'c', 't', '$', 'a', 't', 't'],\n",
       "       ['a', 't', 't', 'a', 'g', 'g', 'a', 'c', 't', '$'],\n",
       "       ['c', 't', '$', 'a', 't', 't', 'a', 'g', 'g', 'a'],\n",
       "       ['g', 'a', 'c', 't', '$', 'a', 't', 't', 'a', 'g'],\n",
       "       ['g', 'g', 'a', 'c', 't', '$', 'a', 't', 't', 'a'],\n",
       "       ['t', '$', 'a', 't', 't', 'a', 'g', 'g', 'a', 'c'],\n",
       "       ['t', 'a', 'g', 'g', 'a', 'c', 't', '$', 'a', 't'],\n",
       "       ['t', 't', 'a', 'g', 'g', 'a', 'c', 't', '$', 'a']], dtype='<U1')"
      ]
     },
     "execution_count": 11,
     "metadata": {},
     "output_type": "execute_result"
    }
   ],
   "source": [
    "sorted_bwm"
   ]
  },
  {
   "cell_type": "markdown",
   "id": "fa957762-786d-4327-99ab-443e0aea6c30",
   "metadata": {},
   "source": [
    "#### (+) Expressing suffix array\n",
    "\n",
    "***EXAMPLE: \"attaggact\"***\n",
    "* Order: 9 -> 6 -> 3 -> 0 -> 7 -> 5 -> 4 -> 8 -> 2 -> 1\n",
    "* [9, 6, 3, 0, 7, 5, 4, 8, 2, 1]"
   ]
  },
  {
   "cell_type": "code",
   "execution_count": 12,
   "id": "d4c8a7de-754a-4f31-9bf1-db6918c4a96b",
   "metadata": {},
   "outputs": [],
   "source": [
    "suffix_array = np.lexsort([bwm[:, i] for i in range((bwm.shape[1]-1), -1, -1)])"
   ]
  },
  {
   "cell_type": "markdown",
   "id": "5e10272c-6537-451d-866d-441b852edf8b",
   "metadata": {},
   "source": [
    "## 4. Final result: BWT array (and suffix array)"
   ]
  },
  {
   "cell_type": "code",
   "execution_count": 13,
   "id": "29fec12d-7d7e-4175-8ffd-563b8abda73f",
   "metadata": {},
   "outputs": [],
   "source": [
    "bwt_first = sorted_bwm[:, 0]\n",
    "bwt_last = sorted_bwm[:, -1]"
   ]
  },
  {
   "cell_type": "code",
   "execution_count": 14,
   "id": "1de9cd19-1ad0-4e85-b92e-fcf2d722354a",
   "metadata": {},
   "outputs": [
    {
     "data": {
      "text/plain": [
       "array(['$', 'a', 'a', 'a', 'c', 'g', 'g', 't', 't', 't'], dtype='<U1')"
      ]
     },
     "execution_count": 14,
     "metadata": {},
     "output_type": "execute_result"
    }
   ],
   "source": [
    "bwt_first"
   ]
  },
  {
   "cell_type": "code",
   "execution_count": 15,
   "id": "e982d608-bf07-42c4-bfb5-8384431e5ec3",
   "metadata": {},
   "outputs": [
    {
     "data": {
      "text/plain": [
       "array(['t', 'g', 't', '$', 'a', 'g', 'a', 'c', 't', 'a'], dtype='<U1')"
      ]
     },
     "execution_count": 15,
     "metadata": {},
     "output_type": "execute_result"
    }
   ],
   "source": [
    "bwt_last"
   ]
  },
  {
   "cell_type": "code",
   "execution_count": 16,
   "id": "7383cf8d-58b1-40b4-97b5-f5b18a358311",
   "metadata": {},
   "outputs": [],
   "source": [
    "bwt_result_string = ''.join(bwt_last)"
   ]
  },
  {
   "cell_type": "code",
   "execution_count": 17,
   "id": "718ed159-72a4-4e7c-8613-2c65dfc39897",
   "metadata": {},
   "outputs": [
    {
     "name": "stdout",
     "output_type": "stream",
     "text": [
      "BWT of attaggact$: tgt$agacta\n",
      "Suffix Array of attaggact$: [9 6 3 0 7 5 4 8 2 1]\n"
     ]
    }
   ],
   "source": [
    "print(f\"BWT of {sequence}:\", bwt_result_string)\n",
    "print(f\"Suffix Array of {sequence}:\", suffix_array)"
   ]
  },
  {
   "cell_type": "markdown",
   "id": "c0d59c3d-975f-46b6-a00d-f99ffb456cc3",
   "metadata": {},
   "source": [
    "# Conclusion"
   ]
  },
  {
   "cell_type": "code",
   "execution_count": 18,
   "id": "0a8c11d7-63f9-4ffe-b452-f0fccf398b1d",
   "metadata": {},
   "outputs": [],
   "source": [
    "def burrows_wheeler_transform(sequence):\n",
    "    sequence += \"$\"\n",
    "    sequence_list = list(sequence)\n",
    "    \n",
    "    bwm = [] \n",
    "    \n",
    "    for i in range(len(sequence_list)):\n",
    "        bwm.append(sequence_list.copy())\n",
    "        first_seq = sequence_list.pop(0) \n",
    "        sequence_list.append(first_seq) \n",
    "    \n",
    "    bwm = np.array(bwm)\n",
    "    \n",
    "    sorted_bwm = bwm[bwm[:, 0].argsort()]\n",
    "\n",
    "    bwt_first = sorted_bwm[:, 0]\n",
    "    bwt_last = sorted_bwm[:, -1]\n",
    "\n",
    "    return bwt_first, bwt_last"
   ]
  },
  {
   "cell_type": "markdown",
   "id": "d19f8050-c8ff-4d7f-9c46-0ea861680948",
   "metadata": {},
   "source": [
    "## Contribution\n",
    "* Main logics are based on the content of the lecture slides\n",
    "* Some of the codes and explanations were written with the help of ChatGPT"
   ]
  }
 ],
 "metadata": {
  "kernelspec": {
   "display_name": "Python 3 (ipykernel)",
   "language": "python",
   "name": "python3"
  },
  "language_info": {
   "codemirror_mode": {
    "name": "ipython",
    "version": 3
   },
   "file_extension": ".py",
   "mimetype": "text/x-python",
   "name": "python",
   "nbconvert_exporter": "python",
   "pygments_lexer": "ipython3",
   "version": "3.12.2"
  }
 },
 "nbformat": 4,
 "nbformat_minor": 5
}
